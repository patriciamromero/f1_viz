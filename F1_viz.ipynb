{
 "cells": [
  {
   "cell_type": "markdown",
   "metadata": {},
   "source": [
    "🔹 1. Distribución de Nacionalidades de los Pilotos\n",
    "📌 Objetivo: Crear un gráfico de barras con el número de pilotos por nacionalidad.\n",
    "🔹 Librerías: pandas, matplotlib, seaborn\n",
    "🔹 Tipo de gráfico: Barras"
   ]
  },
  {
   "cell_type": "code",
   "execution_count": 79,
   "metadata": {},
   "outputs": [],
   "source": [
    "import pandas as pd   # Para cargar y manipular los datasets\n",
    "import numpy as np    # Para operaciones numéricas\n"
   ]
  },
  {
   "cell_type": "code",
   "execution_count": 80,
   "metadata": {},
   "outputs": [],
   "source": [
    "import matplotlib.pyplot as plt   # Para gráficos básicos\n",
    "import seaborn as sns             # Para gráficos más avanzados y estéticos\n"
   ]
  },
  {
   "cell_type": "code",
   "execution_count": 95,
   "metadata": {},
   "outputs": [],
   "source": [
    "drivers = pd.read_csv(\"drivers.csv\", index_col=None)\n",
    "fastest_laps = pd.read_csv(\"fastest_laps_.csv\")\n",
    "teams = pd.read_csv(\"teams.csv\")\n",
    "winners = pd.read_csv(\"winners.csv\")"
   ]
  },
  {
   "cell_type": "code",
   "execution_count": 82,
   "metadata": {},
   "outputs": [
    {
     "data": {
      "text/html": [
       "<div>\n",
       "<style scoped>\n",
       "    .dataframe tbody tr th:only-of-type {\n",
       "        vertical-align: middle;\n",
       "    }\n",
       "\n",
       "    .dataframe tbody tr th {\n",
       "        vertical-align: top;\n",
       "    }\n",
       "\n",
       "    .dataframe thead th {\n",
       "        text-align: right;\n",
       "    }\n",
       "</style>\n",
       "<table border=\"1\" class=\"dataframe\">\n",
       "  <thead>\n",
       "    <tr style=\"text-align: right;\">\n",
       "      <th></th>\n",
       "      <th>Pos</th>\n",
       "      <th>Driver</th>\n",
       "      <th>Nationality</th>\n",
       "      <th>Car</th>\n",
       "      <th>PTS</th>\n",
       "      <th>year</th>\n",
       "      <th>Code</th>\n",
       "    </tr>\n",
       "  </thead>\n",
       "  <tbody>\n",
       "    <tr>\n",
       "      <th>0</th>\n",
       "      <td>1</td>\n",
       "      <td>Nino  Farina</td>\n",
       "      <td>ITA</td>\n",
       "      <td>Alfa Romeo</td>\n",
       "      <td>30.0</td>\n",
       "      <td>1950</td>\n",
       "      <td>FAR</td>\n",
       "    </tr>\n",
       "    <tr>\n",
       "      <th>1</th>\n",
       "      <td>2</td>\n",
       "      <td>Juan Manuel  Fangio</td>\n",
       "      <td>ARG</td>\n",
       "      <td>Alfa Romeo</td>\n",
       "      <td>27.0</td>\n",
       "      <td>1950</td>\n",
       "      <td>FAN</td>\n",
       "    </tr>\n",
       "    <tr>\n",
       "      <th>2</th>\n",
       "      <td>3</td>\n",
       "      <td>Luigi  Fagioli</td>\n",
       "      <td>ITA</td>\n",
       "      <td>Alfa Romeo</td>\n",
       "      <td>24.0</td>\n",
       "      <td>1950</td>\n",
       "      <td>FAG</td>\n",
       "    </tr>\n",
       "    <tr>\n",
       "      <th>3</th>\n",
       "      <td>4</td>\n",
       "      <td>Louis Rosier</td>\n",
       "      <td>FRA</td>\n",
       "      <td>Talbot-Lago</td>\n",
       "      <td>13.0</td>\n",
       "      <td>1950</td>\n",
       "      <td>ROS</td>\n",
       "    </tr>\n",
       "    <tr>\n",
       "      <th>4</th>\n",
       "      <td>5</td>\n",
       "      <td>Alberto  Ascari</td>\n",
       "      <td>ITA</td>\n",
       "      <td>Ferrari</td>\n",
       "      <td>11.0</td>\n",
       "      <td>1950</td>\n",
       "      <td>ASC</td>\n",
       "    </tr>\n",
       "  </tbody>\n",
       "</table>\n",
       "</div>"
      ],
      "text/plain": [
       "  Pos                Driver Nationality          Car   PTS  year Code\n",
       "0   1         Nino  Farina          ITA   Alfa Romeo  30.0  1950  FAR\n",
       "1   2  Juan Manuel  Fangio          ARG   Alfa Romeo  27.0  1950  FAN\n",
       "2   3       Luigi  Fagioli          ITA   Alfa Romeo  24.0  1950  FAG\n",
       "3   4         Louis Rosier          FRA  Talbot-Lago  13.0  1950  ROS\n",
       "4   5      Alberto  Ascari          ITA      Ferrari  11.0  1950  ASC"
      ]
     },
     "execution_count": 82,
     "metadata": {},
     "output_type": "execute_result"
    }
   ],
   "source": [
    "drivers.head()"
   ]
  },
  {
   "cell_type": "code",
   "execution_count": 83,
   "metadata": {},
   "outputs": [
    {
     "data": {
      "text/plain": [
       "array(['Vanwall', 'Ferrari', 'Cooper Climax', 'BRM', 'Maserati',\n",
       "       'Lotus Climax', 'Cooper Maserati', 'Cooper Castellotti', 'Porsche',\n",
       "       'BRM Climax', 'Lola Climax', 'Brabham Climax', 'Lotus BRM',\n",
       "       'BRP BRM', 'Brabham BRM', 'Honda', 'Brabham Repco', 'Eagle Climax',\n",
       "       'McLaren Ford', 'McLaren Serenissima', 'Lotus Ford',\n",
       "       'Eagle Weslake', 'McLaren BRM', 'Matra Ford', 'Cooper BRM',\n",
       "       'Matra', 'Mclaren BRM', 'Brabham Ford', 'March Ford',\n",
       "       'Surtees Ford', 'Tyrrell Ford', 'Shadow Ford', 'Iso Marlboro Ford',\n",
       "       'Tecno', 'Hesketh Ford', 'Lola Ford',\n",
       "       'Frank Williams Racing Cars/Williams', 'Parnelli Ford',\n",
       "       'Hill Ford', 'Penske Ford', 'Ensign Ford', 'Ligier Matra',\n",
       "       'Brabham Alfa Romeo', 'Fittipaldi Ford', 'Wolf Ford',\n",
       "       'Williams Ford', 'Arrows Ford', 'Renault', 'Ligier Ford',\n",
       "       'ATS Ford', 'Alfa Romeo', 'Theodore Ford', 'Brabham BMW',\n",
       "       'Osella Ford', 'Lotus Renault', 'Toleman Hart', 'Williams Honda',\n",
       "       'McLaren TAG', 'Arrows BMW', 'Ligier Renault', 'Osella Alfa Romeo',\n",
       "       'Tyrrell Renault', 'Benetton BMW', 'Lotus Honda', 'Benetton Ford',\n",
       "       'Arrows Megatron', 'Zakspeed', 'Ligier Megatron', 'AGS Ford',\n",
       "       'McLaren Honda', 'March Judd', 'Williams Judd', 'Rial Ford',\n",
       "       'Minardi Ford', 'Williams Renault', 'Lotus Judd', 'Dallara Ford',\n",
       "       'Brabham Judd', 'Onyx Ford', 'Lola Lamborghini',\n",
       "       'Leyton House Judd', 'Lotus Lamborghini', 'Jordan Ford',\n",
       "       'Tyrrell Honda', 'Minardi Ferrari', 'Dallara Judd',\n",
       "       'Brabham Yamaha', 'Leyton House Ilmor', 'Tyrrell Ilmor',\n",
       "       'Footwork Mugen Honda', 'March Ilmor', 'Dallara Ferrari',\n",
       "       'Jordan Yamaha', 'Minardi Lamborghini', 'Venturi Lamborghini',\n",
       "       'Sauber', 'Larrousse Lamborghini', 'Jordan Hart',\n",
       "       'McLaren Peugeot', 'Tyrrell Yamaha', 'Sauber Mercedes',\n",
       "       'Footwork Ford', 'Larrousse Ford', 'Benetton Renault',\n",
       "       'McLaren Mercedes', 'Ligier Mugen Honda', 'Jordan Peugeot',\n",
       "       'Sauber Ford', 'Footwork Hart', 'Prost Mugen Honda',\n",
       "       'Sauber Petronas', 'Arrows Yamaha', 'Stewart Ford',\n",
       "       'Williams Mecachrome', 'Jordan Mugen Honda', 'Benetton Playlife',\n",
       "       'Arrows', 'Prost Peugeot', 'Williams Supertec', 'Williams BMW',\n",
       "       'BAR Honda', 'Arrows Supertec', 'Jaguar Cosworth', 'Jordan Honda',\n",
       "       'Prost Acer', 'Arrows Asiatech', 'Minardi Asiatech', 'Toyota',\n",
       "       'Arrows Cosworth', 'Minardi Cosworth', 'RBR Cosworth',\n",
       "       'Jordan Toyota', 'Sauber BMW', 'RBR Ferrari', 'Williams Cosworth',\n",
       "       'STR Cosworth', 'MF1 Toyota', 'Super Aguri Honda',\n",
       "       'Williams Toyota', 'Red Bull Renault', 'STR Ferrari',\n",
       "       'Spyker Ferrari', 'Force India Ferrari', 'Brawn Mercedes',\n",
       "       'RBR Renault', 'Force India Mercedes', 'Mercedes',\n",
       "       'Sauber Ferrari', 'Lotus Cosworth', 'HRT Cosworth',\n",
       "       'Virgin Cosworth', 'Red Bull Racing Renault', 'Caterham Renault',\n",
       "       'Marussia Cosworth', 'Williams Mercedes', 'STR Renault',\n",
       "       'Marussia Ferrari', 'Lotus Mercedes', 'Red Bull Racing TAG Heuer',\n",
       "       'Toro Rosso Ferrari', 'Haas Ferrari', 'MRT Mercedes', 'Toro Rosso',\n",
       "       'McLaren Renault', 'Scuderia Toro Rosso Honda',\n",
       "       'Force India Sahara', 'Red Bull Racing Honda',\n",
       "       'Racing Point BWT Mercedes', 'Alfa Romeo Racing Ferrari',\n",
       "       'AlphaTauri Honda', 'Alpine Renault', 'Aston Martin Mercedes',\n",
       "       'Red Bull Racing RBPT', 'Alfa Romeo Ferrari',\n",
       "       'Aston Martin Aramco Mercedes', 'AlphaTauri RBPT',\n",
       "       'Red Bull Racing Honda RBPT', 'AlphaTauri Honda RBPT',\n",
       "       'RB Honda RBPT', 'Kick Sauber Ferrari'], dtype=object)"
      ]
     },
     "execution_count": 83,
     "metadata": {},
     "output_type": "execute_result"
    }
   ],
   "source": [
    "teams['Team'].unique()"
   ]
  },
  {
   "cell_type": "code",
   "execution_count": 84,
   "metadata": {},
   "outputs": [
    {
     "data": {
      "text/plain": [
       "array(['Alfa Romeo', 'Talbot-Lago', 'Ferrari', 'Kurtis Kraft Offenhauser',\n",
       "       'Deidt Offenhauser', 'Maserati', 'Simca-Gordini', nan,\n",
       "       'Maserati Milano', 'BRM', 'Sherman Offenhauser',\n",
       "       'Schroeder Offenhauser', 'Cooper Bristol', 'Gordini',\n",
       "       'Kuzma Offenhauser', 'Lesovsky Offenhauser',\n",
       "       'Connaught Lea Francis', 'Mercedes-Benz', 'Lancia',\n",
       "       'Watson Offenhauser', 'Connaught Alta', 'Phillips Offenhauser',\n",
       "       'Vanwall', 'Kurtis Kraft Novi', 'Epperly Offenhauser',\n",
       "       'Cooper Climax', 'Lotus Climax', 'Cooper Maserati',\n",
       "       'Cooper Castellotti', 'Trevis Offenhauser', 'Porsche',\n",
       "       'BRM Climax', 'Lola Climax', 'Brabham Climax', 'Lotus BRM',\n",
       "       'BRP BRM', 'Scirocco BRM', 'ATS', 'Gilby BRM', 'Stebro Ford',\n",
       "       'LDS Alfa Romeo', 'Lotus Ford', 'Brabham Ford', 'Brabham BRM',\n",
       "       'Honda', 'Brabham Repco', 'Eagle Climax', 'Eagle Weslake',\n",
       "       'McLaren Ford', 'McLaren BRM', 'Matra Ford', 'Matra', 'Cooper BRM',\n",
       "       'Tyrrell Ford', 'March Ford', 'Surtees Ford', 'Iso Marlboro Ford',\n",
       "       'Shadow Ford', 'Hesketh Ford', 'Lola Ford',\n",
       "       'Frank Williams Racing Cars/Williams', 'Parnelli Ford',\n",
       "       'Hill Ford', 'Ensign Ford', 'Penske Ford', 'Ligier Matra',\n",
       "       'Brabham Alfa Romeo', 'Fittipaldi Ford', 'Wolf-Williams',\n",
       "       'Wolf Ford', 'Williams Ford', 'Arrows Ford', 'Renault',\n",
       "       'Ligier Ford', 'ATS Ford', 'Theodore Ford', 'Brabham BMW',\n",
       "       'Osella Ford', 'Williams Honda', 'McLaren TAG', 'Lotus Renault',\n",
       "       'Toleman Hart', 'Arrows BMW', 'Ligier Renault',\n",
       "       'Osella Alfa Romeo', 'Tyrrell Renault', 'Benetton BMW',\n",
       "       'Lotus Honda', 'Benetton Ford', 'Arrows Megatron', 'Zakspeed',\n",
       "       'Ligier Megatron', 'AGS Ford', 'McLaren Honda', 'March Judd',\n",
       "       'Williams Judd', 'Rial Ford', 'Minardi Ford', 'Williams Renault',\n",
       "       'Lotus Judd', 'Onyx Ford', 'Lola Lamborghini', 'Dallara Ford',\n",
       "       'Brabham Judd', 'Leyton House Judd', 'Lotus Lamborghini',\n",
       "       'Tyrrell Honda', 'Jordan Ford', 'Minardi Ferrari', 'Dallara Judd',\n",
       "       'Brabham Yamaha', 'Leyton House Ilmor', 'Tyrrell Ilmor',\n",
       "       'Footwork Mugen Honda', 'March Ilmor', 'Dallara Ferrari',\n",
       "       'Jordan Yamaha', 'Minardi Lamborghini', 'Venturi Lamborghini',\n",
       "       'Sauber', 'Larrousse Lamborghini', 'Jordan Hart',\n",
       "       'McLaren Peugeot', 'Tyrrell Yamaha', 'Sauber Mercedes',\n",
       "       'Footwork Ford', 'Lotus Mugen Honda', 'Larrousse Ford',\n",
       "       'Benetton Renault', 'McLaren Mercedes', 'Ligier Mugen Honda',\n",
       "       'Sauber Ford', 'Jordan Peugeot', 'Footwork Hart',\n",
       "       'Prost Mugen Honda', 'Sauber Petronas', 'Arrows Yamaha',\n",
       "       'Stewart Ford', 'Williams Mecachrome', 'Jordan Mugen Honda',\n",
       "       'Benetton Playlife', 'Arrows', 'Prost Peugeot',\n",
       "       'Williams Supertec', 'Williams BMW', 'BAR Honda',\n",
       "       'Arrows Supertec', 'Jaguar Cosworth', 'Minardi Fondmetal',\n",
       "       'Jordan Honda', 'Prost Acer', 'Arrows Asiatech',\n",
       "       'Minardi Asiatech', 'Toyota', 'Arrows Cosworth',\n",
       "       'Minardi Cosworth', 'RBR Cosworth', 'Jordan Toyota', 'Sauber BMW',\n",
       "       'RBR Ferrari', 'Williams Cosworth', 'STR Cosworth', 'MF1 Toyota',\n",
       "       'Super Aguri Honda', 'Williams Toyota', 'Red Bull Renault',\n",
       "       'STR Ferrari', 'Spyker Ferrari', 'Force India Ferrari',\n",
       "       'Brawn Mercedes', 'RBR Renault', 'Force India Mercedes',\n",
       "       'Mercedes', 'Sauber Ferrari', 'Lotus Cosworth', 'HRT Cosworth',\n",
       "       'Virgin Cosworth', 'Red Bull Racing Renault', 'Caterham Renault',\n",
       "       'Marussia Cosworth', 'Williams Mercedes', 'STR Renault',\n",
       "       'Marussia Ferrari', 'Lotus Mercedes', 'Red Bull Racing TAG Heuer',\n",
       "       'Toro Rosso Ferrari', 'Haas Ferrari', 'MRT Mercedes', 'Toro Rosso',\n",
       "       'McLaren Renault', 'Scuderia Toro Rosso Honda',\n",
       "       'Red Bull Racing Honda', 'Racing Point BWT Mercedes',\n",
       "       'Alfa Romeo Racing Ferrari', 'AlphaTauri Honda', 'Alpine Renault',\n",
       "       'Aston Martin Mercedes', 'Red Bull Racing RBPT',\n",
       "       'Alfa Romeo Ferrari', 'Aston Martin Aramco Mercedes',\n",
       "       'AlphaTauri RBPT', 'Red Bull Racing Honda RBPT',\n",
       "       'AlphaTauri Honda RBPT', 'RB Honda RBPT', 'Kick Sauber Ferrari'],\n",
       "      dtype=object)"
      ]
     },
     "execution_count": 84,
     "metadata": {},
     "output_type": "execute_result"
    }
   ],
   "source": [
    "drivers['Car'].unique()"
   ]
  },
  {
   "cell_type": "code",
   "execution_count": 96,
   "metadata": {},
   "outputs": [
    {
     "name": "stdout",
     "output_type": "stream",
     "text": [
      "['Vanwall' 'Ferrari' 'Cooper Climax' 'Brm' 'Maserati' 'Lotus'\n",
      " 'Cooper Maserati' 'Cooper Castellotti' 'Porsche' 'Brm Climax'\n",
      " 'Lola Climax' 'Brabham Climax' 'Brp Brm' 'Brabham Brm' 'Honda'\n",
      " 'Brabham Repco' 'Eagle Climax' 'McLaren' 'Mclaren Serenissima'\n",
      " 'Eagle Weslake' 'Matra Ford' 'Cooper Brm' 'Matra' 'Brabham Ford'\n",
      " 'March Ford' 'Surtees Ford' 'Tyrrell Ford' 'Shadow Ford'\n",
      " 'Iso Marlboro Ford' 'Tecno' 'Hesketh Ford' 'Lola Ford'\n",
      " 'Frank Williams Racing Cars/Williams' 'Parnelli Ford' 'Hill Ford'\n",
      " 'Penske Ford' 'Ensign Ford' 'Ligier Matra' 'Brabham Alfa Romeo'\n",
      " 'Fittipaldi Ford' 'Wolf Ford' 'Williams' 'Arrows Ford' 'Renault'\n",
      " 'Ligier Ford' 'Ats Ford' 'Alfa Romeo' 'Theodore Ford' 'Brabham Bmw'\n",
      " 'Osella Ford' 'Lotus Renault' 'Toleman Hart' 'Arrows Bmw'\n",
      " 'Ligier Renault' 'Osella Alfa Romeo' 'Tyrrell Renault' 'Benetton'\n",
      " 'Arrows Megatron' 'Zakspeed' 'Ligier Megatron' 'Ags Ford' 'March Judd'\n",
      " 'Williams Judd' 'Rial Ford' 'Minardi' 'Dallara Ford' 'Brabham Judd'\n",
      " 'Onyx Ford' 'Lola Lamborghini' 'Leyton House Judd' 'Jordan Ford'\n",
      " 'Tyrrell Honda' 'Dallara Judd' 'Brabham Yamaha' 'Leyton House Ilmor'\n",
      " 'Tyrrell Ilmor' 'Footwork Mugen Honda' 'March Ilmor' 'Jordan Yamaha'\n",
      " 'Venturi Lamborghini' 'Larrousse Lamborghini' 'Jordan Hart'\n",
      " 'Tyrrell Yamaha' 'Footwork Ford' 'Larrousse Ford' 'Ligier Mugen Honda'\n",
      " 'Jordan Peugeot' 'Sauber Ford' 'Footwork Hart' 'Prost' 'Arrows Yamaha'\n",
      " 'Stewart Ford' 'Jordan Mugen Honda' 'Arrows' 'Bar Honda'\n",
      " 'Arrows Supertec' 'Jaguar' 'Jordan Honda' 'Arrows Asiatech' 'Toyota'\n",
      " 'Arrows Cosworth' 'Red Bull' 'Str Cosworth' 'Super Aguri' 'Str Ferrari'\n",
      " 'Spyker' 'Force India' 'Mercedes' 'Rbr Renault' 'HRT' 'Virgin' 'Caterham'\n",
      " 'Str Renault' 'Toro Rosso' 'Haas' 'Mrt Mercedes' 'Racing Point'\n",
      " 'AlphaTauri' 'Alpine' 'Aston Martin' 'RB']\n",
      "['Alfa Romeo' 'Talbot-Lago' 'Ferrari' 'Kurtis Kraft Offenhauser'\n",
      " 'Deidt Offenhauser' 'Maserati' 'Simca-Gordini' None 'Maserati Milano'\n",
      " 'Brm' 'Sherman Offenhauser' 'Schroeder Offenhauser' 'Cooper Bristol'\n",
      " 'Gordini' 'Kuzma Offenhauser' 'Lesovsky Offenhauser'\n",
      " 'Connaught Lea Francis' 'Mercedes-Benz' 'Lancia' 'Watson Offenhauser'\n",
      " 'Connaught Alta' 'Phillips Offenhauser' 'Vanwall' 'Kurtis Kraft Novi'\n",
      " 'Epperly Offenhauser' 'Cooper Climax' 'Lotus' 'Cooper Maserati'\n",
      " 'Cooper Castellotti' 'Trevis Offenhauser' 'Porsche' 'Brm Climax'\n",
      " 'Lola Climax' 'Brabham Climax' 'Brp Brm' 'Scirocco Brm' 'Ats' 'Gilby Brm'\n",
      " 'Stebro Ford' 'Lds Alfa Romeo' 'Brabham Ford' 'Brabham Brm' 'Honda'\n",
      " 'Brabham Repco' 'Eagle Climax' 'Eagle Weslake' 'McLaren' 'Matra Ford'\n",
      " 'Matra' 'Cooper Brm' 'Tyrrell Ford' 'March Ford' 'Surtees Ford'\n",
      " 'Iso Marlboro Ford' 'Shadow Ford' 'Hesketh Ford' 'Lola Ford'\n",
      " 'Frank Williams Racing Cars/Williams' 'Parnelli Ford' 'Hill Ford'\n",
      " 'Ensign Ford' 'Penske Ford' 'Ligier Matra' 'Brabham Alfa Romeo'\n",
      " 'Fittipaldi Ford' 'Wolf-Williams' 'Wolf Ford' 'Williams' 'Arrows Ford'\n",
      " 'Renault' 'Ligier Ford' 'Ats Ford' 'Theodore Ford' 'Brabham Bmw'\n",
      " 'Osella Ford' 'Lotus Renault' 'Toleman Hart' 'Arrows Bmw'\n",
      " 'Ligier Renault' 'Osella Alfa Romeo' 'Tyrrell Renault' 'Benetton'\n",
      " 'Arrows Megatron' 'Zakspeed' 'Ligier Megatron' 'Ags Ford' 'March Judd'\n",
      " 'Williams Judd' 'Rial Ford' 'Minardi' 'Onyx Ford' 'Lola Lamborghini'\n",
      " 'Dallara Ford' 'Brabham Judd' 'Leyton House Judd' 'Tyrrell Honda'\n",
      " 'Jordan Ford' 'Dallara Judd' 'Brabham Yamaha' 'Leyton House Ilmor'\n",
      " 'Tyrrell Ilmor' 'Footwork Mugen Honda' 'March Ilmor' 'Jordan Yamaha'\n",
      " 'Venturi Lamborghini' 'Larrousse Lamborghini' 'Jordan Hart'\n",
      " 'Tyrrell Yamaha' 'Footwork Ford' 'Lotus Mugen Honda' 'Larrousse Ford'\n",
      " 'Ligier Mugen Honda' 'Sauber Ford' 'Jordan Peugeot' 'Footwork Hart'\n",
      " 'Prost' 'Arrows Yamaha' 'Stewart Ford' 'Jordan Mugen Honda' 'Arrows'\n",
      " 'Bar Honda' 'Arrows Supertec' 'Jaguar' 'Minardi Fondmetal' 'Jordan Honda'\n",
      " 'Arrows Asiatech' 'Toyota' 'Arrows Cosworth' 'Red Bull' 'Str Cosworth'\n",
      " 'Super Aguri' 'Str Ferrari' 'Spyker' 'Force India' 'Mercedes'\n",
      " 'Rbr Renault' 'HRT' 'Virgin' 'Caterham' 'Str Renault' 'Toro Rosso' 'Haas'\n",
      " 'Mrt Mercedes' 'Racing Point' 'AlphaTauri' 'Alpine' 'Aston Martin' 'RB']\n"
     ]
    }
   ],
   "source": [
    "\n",
    "# Diccionario de equipos (ajustado para incluir más variaciones)\n",
    "equipos_normalizados = {\n",
    "    \"McLaren\": [\"McLaren\", \"McLaren Ford\", \"McLaren BRM\", \"McLaren TAG\", \"McLaren Honda\", \"McLaren Mercedes\", \"McLaren Renault\", \"McLaren Peugeot\"],\n",
    "    \"Ferrari\": [\"Ferrari\", \"Minardi Ferrari\", \"Dallara Ferrari\", \"Sauber Ferrari\", \"Alfa Romeo Ferrari\", \"Kick Sauber Ferrari\"],\n",
    "    \"Red Bull\": [\"Red Bull\", \"RBR Cosworth\", \"Red Bull Renault\", \"RBR Ferrari\", \"Red Bull Racing Renault\", \"Red Bull Racing TAG Heuer\", \"Red Bull Racing Honda\", \"Red Bull Racing RBPT\", \"Red Bull Racing Honda RBPT\"],\n",
    "    \"Williams\": [\"Williams\", \"Williams Ford\", \"Williams Honda\", \"Williams Renault\", \"Williams BMW\", \"Williams Cosworth\", \"Williams Toyota\", \"Williams Mecachrome\", \"Williams Supertec\", \"Williams Mercedes\"],\n",
    "    \"Alfa Romeo\": [\"Alfa Romeo\", \"Sauber\", \"Sauber Mercedes\", \"Sauber Petronas\", \"Sauber BMW\", \"Alfa Romeo Racing Ferrari\", \"Kick Sauber Ferrari\"],\n",
    "    \"Mercedes\": [\"Mercedes\", \"Brawn Mercedes\"],\n",
    "    \"Aston Martin\": [\"Aston Martin Mercedes\", \"Aston Martin Aramco Mercedes\"],\n",
    "    \"AlphaTauri\": [\"AlphaTauri Honda\", \"AlphaTauri RBPT\", \"AlphaTauri Honda RBPT\"],\n",
    "    \"Benetton\": [\"Benetton BMW\", \"Benetton Ford\", \"Benetton Renault\", \"Benetton Playlife\"],\n",
    "    \"Force India\": [\"Force India Ferrari\", \"Force India Mercedes\", \"Force India Sahara\"],\n",
    "    \"Lotus\": [\"Lotus Climax\", \"Lotus BRM\", \"Lotus Ford\", \"Lotus Honda\", \"Lotus Judd\", \"Lotus Lamborghini\", \"Lotus Cosworth\", \"Lotus Mercedes\"],\n",
    "    \"Minardi\": [\"Minardi Ford\", \"Minardi Ferrari\", \"Minardi Lamborghini\", \"Minardi Asiatech\", \"Minardi Cosworth\"],\n",
    "    \"Toyota\": [\"Toyota\", \"Jordan Toyota\", \"MF1 Toyota\"],\n",
    "    \"Jaguar\": [\"Jaguar Cosworth\"],\n",
    "    \"Prost\": [\"Prost Mugen Honda\", \"Prost Peugeot\", \"Prost Acer\"],\n",
    "    \"Haas\": [\"Haas Ferrari\"],\n",
    "    \"Caterham\": [\"Caterham Renault\"],\n",
    "    \"Virgin\": [\"Virgin Cosworth\", \"Marussia Cosworth\", \"Marussia Ferrari\"],\n",
    "    \"HRT\": [\"HRT Cosworth\"],\n",
    "    \"Spyker\": [\"Spyker Ferrari\"],\n",
    "    \"Alpine\": [\"Alpine Renault\"],\n",
    "    \"Toro Rosso\": [\"Toro Rosso\", \"Toro Rosso Ferrari\", \"Scuderia Toro Rosso Honda\"],\n",
    "    \"Super Aguri\": [\"Super Aguri Honda\"],\n",
    "    \"Racing Point\": [\"Racing Point BWT Mercedes\"],\n",
    "    \"RB\": [\"RB Honda RBPT\"],\n",
    "}\n",
    "\n",
    "\n",
    "\n",
    "def normalizar_equipo(nombre):\n",
    "    if pd.isna(nombre):\n",
    "        return None\n",
    "    \n",
    "    nombre = nombre.strip().lower()  # Convertimos a minúsculas y eliminamos espacios extra\n",
    "\n",
    "    for nombre_normalizado, variantes in equipos_normalizados.items():\n",
    "        if nombre in [v.lower() for v in variantes]:  # Comparación exacta\n",
    "            return nombre_normalizado\n",
    "\n",
    "    return nombre.title()  # Si no hay coincidencia exacta, devuelve el formato título\n",
    "# Aplicamos la función a los DataFrames\n",
    "teams['Team'] = teams['Team'].map(normalizar_equipo)\n",
    "drivers['Car'] = drivers['Car'].map(normalizar_equipo)\n",
    "\n",
    "# Verificación de valores únicos después de la unificación\n",
    "print(teams['Team'].unique())\n",
    "print(drivers['Car'].unique())\n"
   ]
  },
  {
   "cell_type": "code",
   "execution_count": 97,
   "metadata": {},
   "outputs": [],
   "source": [
    "drivers.to_csv('drivers_updated.csv', index= False)\n",
    "teams.to_csv('teams_updated.csv', index = False)"
   ]
  },
  {
   "cell_type": "code",
   "execution_count": 87,
   "metadata": {},
   "outputs": [
    {
     "data": {
      "text/html": [
       "<div>\n",
       "<style scoped>\n",
       "    .dataframe tbody tr th:only-of-type {\n",
       "        vertical-align: middle;\n",
       "    }\n",
       "\n",
       "    .dataframe tbody tr th {\n",
       "        vertical-align: top;\n",
       "    }\n",
       "\n",
       "    .dataframe thead th {\n",
       "        text-align: right;\n",
       "    }\n",
       "</style>\n",
       "<table border=\"1\" class=\"dataframe\">\n",
       "  <thead>\n",
       "    <tr style=\"text-align: right;\">\n",
       "      <th></th>\n",
       "      <th>Pos</th>\n",
       "      <th>Driver</th>\n",
       "      <th>Nationality</th>\n",
       "      <th>Car</th>\n",
       "      <th>PTS</th>\n",
       "      <th>year</th>\n",
       "      <th>Code</th>\n",
       "    </tr>\n",
       "  </thead>\n",
       "  <tbody>\n",
       "    <tr>\n",
       "      <th>0</th>\n",
       "      <td>1</td>\n",
       "      <td>Nino  Farina</td>\n",
       "      <td>ITA</td>\n",
       "      <td>McLaren</td>\n",
       "      <td>30.0</td>\n",
       "      <td>1950</td>\n",
       "      <td>FAR</td>\n",
       "    </tr>\n",
       "    <tr>\n",
       "      <th>1</th>\n",
       "      <td>2</td>\n",
       "      <td>Juan Manuel  Fangio</td>\n",
       "      <td>ARG</td>\n",
       "      <td>McLaren</td>\n",
       "      <td>27.0</td>\n",
       "      <td>1950</td>\n",
       "      <td>FAN</td>\n",
       "    </tr>\n",
       "    <tr>\n",
       "      <th>2</th>\n",
       "      <td>3</td>\n",
       "      <td>Luigi  Fagioli</td>\n",
       "      <td>ITA</td>\n",
       "      <td>McLaren</td>\n",
       "      <td>24.0</td>\n",
       "      <td>1950</td>\n",
       "      <td>FAG</td>\n",
       "    </tr>\n",
       "    <tr>\n",
       "      <th>3</th>\n",
       "      <td>4</td>\n",
       "      <td>Louis Rosier</td>\n",
       "      <td>FRA</td>\n",
       "      <td>McLaren</td>\n",
       "      <td>13.0</td>\n",
       "      <td>1950</td>\n",
       "      <td>ROS</td>\n",
       "    </tr>\n",
       "    <tr>\n",
       "      <th>4</th>\n",
       "      <td>5</td>\n",
       "      <td>Alberto  Ascari</td>\n",
       "      <td>ITA</td>\n",
       "      <td>McLaren</td>\n",
       "      <td>11.0</td>\n",
       "      <td>1950</td>\n",
       "      <td>ASC</td>\n",
       "    </tr>\n",
       "  </tbody>\n",
       "</table>\n",
       "</div>"
      ],
      "text/plain": [
       "  Pos                Driver Nationality      Car   PTS  year Code\n",
       "0   1         Nino  Farina          ITA  McLaren  30.0  1950  FAR\n",
       "1   2  Juan Manuel  Fangio          ARG  McLaren  27.0  1950  FAN\n",
       "2   3       Luigi  Fagioli          ITA  McLaren  24.0  1950  FAG\n",
       "3   4         Louis Rosier          FRA  McLaren  13.0  1950  ROS\n",
       "4   5      Alberto  Ascari          ITA  McLaren  11.0  1950  ASC"
      ]
     },
     "execution_count": 87,
     "metadata": {},
     "output_type": "execute_result"
    }
   ],
   "source": [
    "drivers.head()"
   ]
  },
  {
   "cell_type": "code",
   "execution_count": 88,
   "metadata": {},
   "outputs": [
    {
     "data": {
      "text/plain": [
       "2"
      ]
     },
     "execution_count": 88,
     "metadata": {},
     "output_type": "execute_result"
    }
   ],
   "source": [
    "len(drivers['Car'].unique())"
   ]
  },
  {
   "cell_type": "code",
   "execution_count": 89,
   "metadata": {},
   "outputs": [
    {
     "name": "stdout",
     "output_type": "stream",
     "text": [
      "GBR    299\n",
      "ITA    193\n",
      "FRA    185\n",
      "GER    137\n",
      "USA    135\n",
      "BRA    111\n",
      "FIN     65\n",
      "ESP     51\n",
      "AUS     51\n",
      "AUT     44\n",
      "NZL     38\n",
      "BEL     36\n",
      "ARG     35\n",
      "JPN     35\n",
      "SWE     33\n",
      "SUI     31\n",
      "MEX     30\n",
      "CAN     27\n",
      "NED     27\n",
      "RSA     16\n",
      "DEN     11\n",
      "RUS     10\n",
      "MON      9\n",
      "POL      7\n",
      "THA      7\n",
      "VEN      6\n",
      "COL      6\n",
      "IND      5\n",
      "POR      4\n",
      "IRL      4\n",
      "RHO      3\n",
      "CHN      3\n",
      "HUN      2\n",
      "CHI      2\n",
      "MAS      1\n",
      "INA      1\n",
      "RAF      1\n",
      "Name: Nationality, dtype: int64\n"
     ]
    }
   ],
   "source": [
    "drivers_per_country = drivers['Nationality'].value_counts()\n",
    "print(drivers_per_country)"
   ]
  },
  {
   "cell_type": "code",
   "execution_count": 90,
   "metadata": {},
   "outputs": [
    {
     "data": {
      "image/png": "[encoded data removed]",
      "text/plain": [
       "<Figure size 864x432 with 1 Axes>"
      ]
     },
     "metadata": {
      "needs_background": "light"
     },
     "output_type": "display_data"
    }
   ],
   "source": [
    "colors = plt.cm.Paired.colors\n",
    "plt.figure(figsize=(12,6))\n",
    "plt.bar(drivers_per_country.index, drivers_per_country.values, color = colors)\n",
    "plt.xticks(rotation = 90)\n",
    "plt.xlabel(\"Nacionality\")\n",
    "plt.ylabel(\"Number of drivers\")\n",
    "plt.title(\"Drivers per country in F1\")\n",
    "plt.show()"
   ]
  },
  {
   "cell_type": "code",
   "execution_count": 91,
   "metadata": {},
   "outputs": [
    {
     "name": "stdout",
     "output_type": "stream",
     "text": [
      "Reviamos los datos que contiene el DF\n",
      "  Pos                Driver Nationality      Car   PTS  year Code\n",
      "0   1         Nino  Farina          ITA  McLaren  30.0  1950  FAR\n",
      "1   2  Juan Manuel  Fangio          ARG  McLaren  27.0  1950  FAN\n",
      "2   3       Luigi  Fagioli          ITA  McLaren  24.0  1950  FAG\n",
      "3   4         Louis Rosier          FRA  McLaren  13.0  1950  ROS\n",
      "4   5      Alberto  Ascari          ITA  McLaren  11.0  1950  ASC\n",
      "Agrupamos los pilotos por año:\n",
      "year\n",
      "1950    22\n",
      "1951    19\n",
      "1952    22\n",
      "1953    19\n",
      "1954    26\n",
      "        ..\n",
      "2020    23\n",
      "2021    21\n",
      "2022    22\n",
      "2023    22\n",
      "2024    21\n",
      "Name: Driver, Length: 75, dtype: int64\n"
     ]
    },
    {
     "data": {
      "image/png": "[encoded data removed]",
      "text/plain": [
       "<Figure size 720x360 with 1 Axes>"
      ]
     },
     "metadata": {
      "needs_background": "light"
     },
     "output_type": "display_data"
    }
   ],
   "source": [
    "#Explorar los datos\n",
    "print(\"Reviamos los datos que contiene el DF\")\n",
    "print(drivers.head())\n",
    "\n",
    "# Agrupar pilotos por año \n",
    "drivers_per_year = drivers.groupby(\"year\")[\"Driver\"].nunique()\n",
    "print (\"Agrupamos los pilotos por año:\")\n",
    "print(drivers_per_year)\n",
    "\n",
    "#Crear gráfico:\n",
    "plt.figure(figsize=(10,5))\n",
    "sns.lineplot(x = drivers_per_year.index, y = drivers_per_year.values, marker = \"o\")\n",
    "plt.xlabel(\"Year\")\n",
    "plt.ylabel(\"Drivers\")\n",
    "plt.title(\"Number of drivers per year\")\n",
    "\n",
    "plt.show()\n"
   ]
  },
  {
   "cell_type": "code",
   "execution_count": 92,
   "metadata": {},
   "outputs": [
    {
     "data": {
      "image/png": "[encoded data removed]",
      "text/plain": [
       "<Figure size 864x432 with 1 Axes>"
      ]
     },
     "metadata": {
      "needs_background": "light"
     },
     "output_type": "display_data"
    }
   ],
   "source": [
    "fastest_laps = fastest_laps.dropna(subset=[\"Time\"])\n",
    "fastest_laps[\"Time\"] = \"00:\" + fastest_laps[\"Time\"]  # Asegurar formato hh:mm:ss.sss\n",
    "fastest_laps[\"Time\"] = pd.to_timedelta(fastest_laps[\"Time\"], errors=\"coerce\")\n",
    "fastest_laps[\"Time\"] = fastest_laps[\"Time\"].dt.total_seconds()\n",
    "\n",
    "fastest_laps_per_year = fastest_laps.groupby('year')[\"Time\"].mean()\n",
    "plt.figure(figsize=(12,6))\n",
    "sns.lineplot(x = fastest_laps_per_year.index, y= fastest_laps_per_year.values, marker = \"o\")\n",
    "plt.xlabel(\"Year\")\n",
    "plt.ylabel(\" AVG fastest lap (seconds)\")\n",
    "plt.show()\n",
    "\n",
    "\n",
    "\n",
    "\n",
    "\n",
    "\n",
    "\n"
   ]
  },
  {
   "cell_type": "code",
   "execution_count": 93,
   "metadata": {},
   "outputs": [
    {
     "data": {
      "image/png": "[encoded data removed]",
      "text/plain": [
       "<Figure size 1728x432 with 1 Axes>"
      ]
     },
     "metadata": {
      "needs_background": "light"
     },
     "output_type": "display_data"
    }
   ],
   "source": [
    "teams_points_year = teams.groupby('Team')[\"PTS\"].sum()\n",
    "teams_points_year = teams_points_year[teams_points_year > 150]\n",
    "teams_points_year = teams_points_year.sort_values(ascending=False)\n",
    "\n",
    "\n",
    "plt.figure(figsize= (24, 6))\n",
    "plt.bar(x = teams_points_year.index, height = teams_points_year.values)\n",
    "plt.xticks(rotation=90)\n",
    "plt.suptitle(\"Points won by team since 1958\")\n",
    "plt.title(\"* over 150\")\n",
    "plt.xlabel(\"Team\")\n",
    "plt.ylabel(\"Points\")\n",
    "plt.show()"
   ]
  },
  {
   "cell_type": "code",
   "execution_count": 94,
   "metadata": {},
   "outputs": [
    {
     "data": {
      "image/png": "[encoded data removed]",
      "text/plain": [
       "<Figure size 864x432 with 1 Axes>"
      ]
     },
     "metadata": {
      "needs_background": "light"
     },
     "output_type": "display_data"
    }
   ],
   "source": [
    "drivers.head()\n",
    "\n",
    "drivers_points = drivers.groupby(\"Driver\")[\"PTS\"].sum()\n",
    "drivers_points = drivers_points.sort_values(ascending = False).head(10)\n",
    "\n",
    "\n",
    "plt.figure(figsize= (12, 6))\n",
    "plt.bar(x = drivers_points.index, height = drivers_points.values, color = colors)\n",
    "plt.xticks(rotation=90)\n",
    "plt.title(\"Top 10 drivers by points\")\n",
    "plt.xlabel(\"Driver\")\n",
    "plt.ylabel(\"Points\")\n",
    "plt.show()\n"
   ]
  }
 ],
 "metadata": {
  "kernelspec": {
   "display_name": "cinesa",
   "language": "python",
   "name": "python3"
  },
  "language_info": {
   "codemirror_mode": {
    "name": "ipython",
    "version": 3
   },
   "file_extension": ".py",
   "mimetype": "text/x-python",
   "name": "python",
   "nbconvert_exporter": "python",
   "pygments_lexer": "ipython3",
   "version": "3.9.7"
  }
 },
 "nbformat": 4,
 "nbformat_minor": 2
}
